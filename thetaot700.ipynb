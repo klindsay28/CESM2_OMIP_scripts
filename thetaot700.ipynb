{
 "cells": [
  {
   "cell_type": "code",
   "execution_count": 1,
   "metadata": {},
   "outputs": [],
   "source": [
    "import xarray as xr\n",
    "import numpy as np\n",
    "import matplotlib.pyplot as plt\n",
    "import git"
   ]
  },
  {
   "cell_type": "code",
   "execution_count": 2,
   "metadata": {},
   "outputs": [],
   "source": [
    "# variables and files to be apply horizontal averaging to\n",
    "hor_avg_metadata_list = [\n",
    "    {'varnames':['thetao'],\n",
    "     'fname_in':'../omip1/thetao_Oyr_CESM2_omip1_r2i1p1f1_gr_0311-0372.nc',\n",
    "     'fname_out':'../omip1/thetao_Oyr_CESM2_omip1_r2i1p1f1_gr_700m_0311-0372.nc'},\n",
    "    {'varnames':['thetao'],\n",
    "     'fname_in':'../omip2/thetao_Oyr_CESM2_omip2_r1i1p1f1_gr_0306-0366.nc',\n",
    "     'fname_out':'../omip2/thetao_Oyr_CESM2_omip2_r1i1p1f1_gr_700m_0306-0366.nc'},\n",
    "]"
   ]
  },
  {
   "cell_type": "code",
   "execution_count": 3,
   "metadata": {},
   "outputs": [
    {
     "name": "stderr",
     "output_type": "stream",
     "text": [
      "/glade/work/klindsay/miniconda3/envs/analysis/lib/python3.7/site-packages/dask/core.py:119: RuntimeWarning: invalid value encountered in true_divide\n",
      "  return func(*args2)\n",
      "/glade/work/klindsay/miniconda3/envs/analysis/lib/python3.7/site-packages/dask/core.py:119: RuntimeWarning: invalid value encountered in true_divide\n",
      "  return func(*args2)\n"
     ]
    }
   ],
   "source": [
    "for hor_avg_metadata in hor_avg_metadata_list:\n",
    "    ds_in = xr.open_dataset(hor_avg_metadata['fname_in'], chunks={'time':1})\n",
    "    ds_out = xr.Dataset()\n",
    "    lev_weight = np.minimum(ds_in.lev_bnds.sel(lev=slice(0,700)), 700.0).diff(dim='d2').squeeze(dim='d2')\n",
    "    for varname in hor_avg_metadata['varnames']:\n",
    "        da_in = ds_in[varname].sel(lev=slice(0,700))\n",
    "        da_out = (da_in * lev_weight).sum(dim='lev')\n",
    "        ones_masked = xr.ones_like(da_in).where(da_in.notnull())\n",
    "        denom = (ones_masked * lev_weight).sum(dim='lev')\n",
    "        da_out /= denom\n",
    "        da_out.attrs = da_in.attrs\n",
    "\n",
    "        # delete some attributes that do not make sense for depth means\n",
    "        for attr_name in ['cell_measures', 'cell_methods', 'comment']:\n",
    "            del da_out.attrs[attr_name]\n",
    "\n",
    "        # propagate some encoding info from da_in\n",
    "        for key in ['dtype', '_FillValue', 'zlib', 'complevel']:\n",
    "            if key in da_in.encoding:\n",
    "                da_out.encoding[key] = da_in.encoding[key]\n",
    "        if 'missing_value' in da_in.encoding:\n",
    "            da_out.attrs['missing_value'] = np.float32(da_in.encoding['missing_value'])\n",
    "\n",
    "        ds_out[varname] = da_out\n",
    "\n",
    "    # if any variable in ds_out has a bounds attribute, copy the bounds variable over\n",
    "    for varname in ds_out.variables:\n",
    "        if 'bounds' in ds_out[varname].attrs:\n",
    "            bounds_name = ds_out[varname].attrs['bounds']\n",
    "            ds_out[bounds_name] = ds_in[bounds_name]\n",
    "\n",
    "    # if a variable doesn't have _FillValue in the encoding, set _FillValue to None\n",
    "    for varname in ds_out.variables:\n",
    "        if '_FillValue' not in ds_out[varname].encoding:\n",
    "            ds_out[varname].encoding['_FillValue'] = None\n",
    "\n",
    "    ds_out.attrs = ds_in.attrs\n",
    "    ds_out.attrs['contact'] = 'klindsay@ucar.edu'\n",
    "    ds_out.attrs['githash'] = git.Repo(search_parent_directories=True).head.object.hexsha\n",
    "\n",
    "    ds_out.to_netcdf(hor_avg_metadata['fname_out'], unlimited_dims='time')"
   ]
  },
  {
   "cell_type": "code",
   "execution_count": null,
   "metadata": {},
   "outputs": [],
   "source": []
  }
 ],
 "metadata": {
  "kernelspec": {
   "display_name": "Python [conda env:analysis]",
   "language": "python",
   "name": "conda-env-analysis-py"
  },
  "language_info": {
   "codemirror_mode": {
    "name": "ipython",
    "version": 3
   },
   "file_extension": ".py",
   "mimetype": "text/x-python",
   "name": "python",
   "nbconvert_exporter": "python",
   "pygments_lexer": "ipython3",
   "version": "3.7.3"
  }
 },
 "nbformat": 4,
 "nbformat_minor": 2
}
