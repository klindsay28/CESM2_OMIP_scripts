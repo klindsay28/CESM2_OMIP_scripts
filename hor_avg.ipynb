{
 "cells": [
  {
   "cell_type": "code",
   "execution_count": 1,
   "metadata": {},
   "outputs": [],
   "source": [
    "import xarray as xr\n",
    "import numpy as np\n",
    "import matplotlib.pyplot as plt\n",
    "import git"
   ]
  },
  {
   "cell_type": "code",
   "execution_count": 2,
   "metadata": {},
   "outputs": [],
   "source": [
    "# variables and files to be apply horizontal averaging to\n",
    "hor_avg_metadata_list = [\n",
    "    {'varnames':['thetao'],\n",
    "     'fname_in':'../omip1/thetao_Oyr_CESM2_omip1_r2i1p1f1_gr_0001-0372.nc',\n",
    "     'fname_out':'../omip1/thetao_Oyr_CESM2_omip1_r2i1p1f1_gr_hor_avg_0001-0372.nc'},\n",
    "    {'varnames':['thetao'],\n",
    "     'fname_in':'../omip2/thetao_Oyr_CESM2_omip2_r1i1p1f1_gr_0001-0366.nc',\n",
    "     'fname_out':'../omip2/thetao_Oyr_CESM2_omip2_r1i1p1f1_gr_hor_avg_0001-0366.nc'},\n",
    "    {'varnames':['so'],\n",
    "     'fname_in':'../omip1/so_Oyr_CESM2_omip1_r2i1p1f1_gr_0001-0372.nc',\n",
    "     'fname_out':'../omip1/so_Oyr_CESM2_omip1_r2i1p1f1_gr_hor_avg_0001-0372.nc'},\n",
    "    {'varnames':['so'],\n",
    "     'fname_in':'../omip2/so_Oyr_CESM2_omip2_r1i1p1f1_gr_0001-0366.nc',\n",
    "     'fname_out':'../omip2/so_Oyr_CESM2_omip2_r1i1p1f1_gr_hor_avg_0001-0366.nc'},\n",
    "]"
   ]
  },
  {
   "cell_type": "code",
   "execution_count": 3,
   "metadata": {},
   "outputs": [
    {
     "data": {
      "image/png": "[encoded data removed]",
      "text/plain": [
       "<Figure size 432x288 with 2 Axes>"
      ]
     },
     "metadata": {
      "needs_background": "light"
     },
     "output_type": "display_data"
    }
   ],
   "source": [
    "# construct area weights\n",
    "\n",
    "fname_areacello = 'areacello_Ofx_CESM2_omip2_r1i1p1f1_gr.nc'\n",
    "area_weight = xr.open_dataset(fname_areacello).areacello\n",
    "area_weight.plot();"
   ]
  },
  {
   "cell_type": "code",
   "execution_count": 4,
   "metadata": {},
   "outputs": [],
   "source": [
    "for hor_avg_metadata in hor_avg_metadata_list:\n",
    "    ds_in = xr.open_dataset(hor_avg_metadata['fname_in'], chunks={'time':1, 'lev':10})\n",
    "    ds_out = xr.Dataset()\n",
    "    for varname in hor_avg_metadata['varnames']:\n",
    "        da_in = ds_in[varname]\n",
    "        da_out = (da_in * area_weight).sum(dim=['lon', 'lat'])\n",
    "        ones_masked = xr.ones_like(da_in).where(da_in.notnull())\n",
    "        denom = (ones_masked * area_weight).sum(dim=['lon', 'lat'])\n",
    "        da_out /= denom\n",
    "        da_out.attrs = da_in.attrs\n",
    "\n",
    "        # delete some attributes that do not make sense for horizontal means\n",
    "        for attr_name in ['cell_measures', 'cell_methods', 'comment']:\n",
    "            del da_out.attrs[attr_name]\n",
    "\n",
    "        # propagate some encoding info from da_in\n",
    "        for key in ['dtype', '_FillValue', 'zlib', 'complevel']:\n",
    "            if key in da_in.encoding:\n",
    "                da_out.encoding[key] = da_in.encoding[key]\n",
    "        if 'missing_value' in da_in.encoding:\n",
    "            da_out.attrs['missing_value'] = np.float32(da_in.encoding['missing_value'])\n",
    "\n",
    "        ds_out[varname] = da_out\n",
    "\n",
    "    # if any variable in ds_out has a bounds attribute, copy the bounds variable over\n",
    "    for varname in ds_out.variables:\n",
    "        if 'bounds' in ds_out[varname].attrs:\n",
    "            bounds_name = ds_out[varname].attrs['bounds']\n",
    "            ds_out[bounds_name] = ds_in[bounds_name]\n",
    "\n",
    "    # if a variable doesn't have _FillValue in the encoding, set _FillValue to None\n",
    "    for varname in ds_out.variables:\n",
    "        if '_FillValue' not in ds_out[varname].encoding:\n",
    "            ds_out[varname].encoding['_FillValue'] = None\n",
    "\n",
    "    ds_out.attrs = ds_in.attrs\n",
    "    ds_out.attrs['contact'] = 'klindsay@ucar.edu'\n",
    "    ds_out.attrs['githash'] = git.Repo(search_parent_directories=True).head.object.hexsha\n",
    "\n",
    "    ds_out.to_netcdf(hor_avg_metadata['fname_out'],\n",
    "                     unlimited_dims='time')"
   ]
  },
  {
   "cell_type": "code",
   "execution_count": null,
   "metadata": {},
   "outputs": [],
   "source": []
  }
 ],
 "metadata": {
  "kernelspec": {
   "display_name": "Python [conda env:analysis]",
   "language": "python",
   "name": "conda-env-analysis-py"
  },
  "language_info": {
   "codemirror_mode": {
    "name": "ipython",
    "version": 3
   },
   "file_extension": ".py",
   "mimetype": "text/x-python",
   "name": "python",
   "nbconvert_exporter": "python",
   "pygments_lexer": "ipython3",
   "version": "3.7.3"
  }
 },
 "nbformat": 4,
 "nbformat_minor": 2
}
